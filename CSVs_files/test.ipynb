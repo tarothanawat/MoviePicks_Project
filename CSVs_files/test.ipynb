{
 "cells": [
  {
   "cell_type": "code",
   "execution_count": 1,
   "id": "initial_id",
   "metadata": {
    "collapsed": true,
    "ExecuteTime": {
     "end_time": "2024-05-04T11:22:30.574824500Z",
     "start_time": "2024-05-04T11:22:30.572661900Z"
    }
   },
   "outputs": [],
   "source": [
    "import pandas as pd"
   ]
  },
  {
   "cell_type": "code",
   "execution_count": 2,
   "outputs": [
    {
     "data": {
      "text/plain": "Unnamed: 0                int64\nid                        int64\ntitle                    object\nrelease_date             object\ngenres                   object\noriginal_language        object\nvote_average            float64\nvote_count                int64\npopularity              float64\noverview                 object\nbudget                    int64\nproduction_companies     object\nrevenue                   int64\nruntime                   int64\ntagline                  object\nprofit                    int64\ndtype: object"
     },
     "execution_count": 2,
     "metadata": {},
     "output_type": "execute_result"
    }
   ],
   "source": [
    "df = pd.read_csv('movies.csv')\n",
    "df.dtypes"
   ],
   "metadata": {
    "collapsed": false,
    "ExecuteTime": {
     "end_time": "2024-05-04T11:22:44.011757600Z",
     "start_time": "2024-05-04T11:22:43.939321900Z"
    }
   },
   "id": "9c430a70917b9d4e"
  },
  {
   "cell_type": "code",
   "execution_count": 3,
   "outputs": [],
   "source": [
    "df['release_date'] = pd.to_datetime(df['release_date'])"
   ],
   "metadata": {
    "collapsed": false,
    "ExecuteTime": {
     "end_time": "2024-05-04T11:23:09.984346400Z",
     "start_time": "2024-05-04T11:23:09.979892700Z"
    }
   },
   "id": "6fbd9e9f73ec80fa"
  },
  {
   "cell_type": "code",
   "execution_count": 4,
   "outputs": [
    {
     "data": {
      "text/plain": "Unnamed: 0                       int64\nid                               int64\ntitle                           object\nrelease_date            datetime64[ns]\ngenres                          object\noriginal_language               object\nvote_average                   float64\nvote_count                       int64\npopularity                     float64\noverview                        object\nbudget                           int64\nproduction_companies            object\nrevenue                          int64\nruntime                          int64\ntagline                         object\nprofit                           int64\ndtype: object"
     },
     "execution_count": 4,
     "metadata": {},
     "output_type": "execute_result"
    }
   ],
   "source": [
    "df.dtypes"
   ],
   "metadata": {
    "collapsed": false,
    "ExecuteTime": {
     "end_time": "2024-05-04T11:23:17.415574Z",
     "start_time": "2024-05-04T11:23:17.408692900Z"
    }
   },
   "id": "cfbdd6cf961e8429"
  },
  {
   "cell_type": "code",
   "execution_count": null,
   "outputs": [],
   "source": [],
   "metadata": {
    "collapsed": false
   },
   "id": "f6a3efd762c57591"
  }
 ],
 "metadata": {
  "kernelspec": {
   "display_name": "Python 3",
   "language": "python",
   "name": "python3"
  },
  "language_info": {
   "codemirror_mode": {
    "name": "ipython",
    "version": 2
   },
   "file_extension": ".py",
   "mimetype": "text/x-python",
   "name": "python",
   "nbconvert_exporter": "python",
   "pygments_lexer": "ipython2",
   "version": "2.7.6"
  }
 },
 "nbformat": 4,
 "nbformat_minor": 5
}
