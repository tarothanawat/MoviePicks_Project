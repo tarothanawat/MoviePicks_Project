{
 "cells": [
  {
   "cell_type": "code",
   "execution_count": 4,
   "outputs": [],
   "source": [
    "import movieposters as mp\n",
    "import pandas as pd"
   ],
   "metadata": {
    "collapsed": false
   },
   "id": "923dcc0188e5aa41"
  },
  {
   "cell_type": "code",
   "execution_count": 5,
   "outputs": [
    {
     "data": {
      "text/plain": "0     The Trapped 13: How We Survived The Thai Cave\n1                                            Hunger\n2                                The Lost Lotteries\n3                                     The Protector\n4                                        The Medium\n5                           Jan Dara: The Beginning\n6                                          Jan Dara\n7                                     Home for Rent\n8                                  Fast & Feel Love\n9                                         Ong Bak 2\n10                                          Shutter\n11                       Ong Bak: Muay Thai Warrior\n12                                  The Whole Truth\n13                             Jan Dara: The Finale\n14                                             Deep\n15                                  The Protector 2\n16                                  Long Live Love!\n17                                      AI Love You\n18                                        Ong Bak 3\n19                                       Bad Genius\n20                                        Ghost Lab\n21                                        Chocolate\nName: title, dtype: object"
     },
     "execution_count": 5,
     "metadata": {},
     "output_type": "execute_result"
    }
   ],
   "source": [
    "df = pd.read_csv('Out_60.csv', lineterminator='\\n')\n",
    "\n",
    "df['title']"
   ],
   "metadata": {
    "collapsed": false,
    "ExecuteTime": {
     "end_time": "2024-04-30T18:09:02.351978200Z",
     "start_time": "2024-04-30T18:09:02.344628600Z"
    }
   },
   "id": "c55ffa93e6e2d579"
  },
  {
   "cell_type": "code",
   "execution_count": null,
   "outputs": [],
   "source": [],
   "metadata": {
    "collapsed": false
   },
   "id": "fdfe23ac115c8434"
  },
  {
   "cell_type": "code",
   "execution_count": null,
   "outputs": [],
   "source": [
    "# link = mp.get_imdb_link_from_title('John Wick: Chapter 4')\n",
    "# poster = mp.get_poster('John Wick: Chapter 4')\n",
    "# print(link)\n",
    "# print(poster)"
   ],
   "metadata": {
    "collapsed": false
   },
   "id": "346abfcef11ce2a6"
  },
  {
   "cell_type": "code",
   "execution_count": 7,
   "outputs": [],
   "source": [
    "df.to_csv('Out_60.csv', index=False)"
   ],
   "metadata": {
    "collapsed": false,
    "ExecuteTime": {
     "end_time": "2024-04-30T18:12:03.722381300Z",
     "start_time": "2024-04-30T18:12:03.712353Z"
    }
   },
   "id": "e462ac43c29f67ba"
  },
  {
   "cell_type": "code",
   "execution_count": null,
   "outputs": [],
   "source": [],
   "metadata": {
    "collapsed": false
   },
   "id": "9f04a41bfce7109a"
  }
 ],
 "metadata": {
  "kernelspec": {
   "display_name": "Python 3",
   "language": "python",
   "name": "python3"
  },
  "language_info": {
   "codemirror_mode": {
    "name": "ipython",
    "version": 2
   },
   "file_extension": ".py",
   "mimetype": "text/x-python",
   "name": "python",
   "nbconvert_exporter": "python",
   "pygments_lexer": "ipython2",
   "version": "2.7.6"
  }
 },
 "nbformat": 4,
 "nbformat_minor": 5
}
